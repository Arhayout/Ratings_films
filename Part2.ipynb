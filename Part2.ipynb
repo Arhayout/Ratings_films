{
 "cells": [
  {
   "cell_type": "code",
   "execution_count": 34,
   "metadata": {},
   "outputs": [
    {
     "name": "stdout",
     "output_type": "stream",
     "text": [
      "We have 610 users, 9724 movies and 100836 ratings matrix has 1.699968 percent of non-zero value.\n",
      "\n"
     ]
    }
   ],
   "source": [
    "import pandas as pd\n",
    "\n",
    "# read a DataFrame of ratings from the csv ratings file\n",
    "csvroot = 'data' # TODO\n",
    "ratings = pd.read_csv(csvroot + '/ratings.csv')\n",
    "ratings = ratings.rename(columns={'userId': 'user', 'movieId': 'item'})\n",
    "\n",
    "def unique(list1):\n",
    "    # insert the list to the set\n",
    "    list_set = set(list1)\n",
    "    # convert the set to the list\n",
    "    unique_list = (list(list_set))\n",
    "    # use a dictionary to store the index of each element in the list\n",
    "    unique_dict = {}\n",
    "    for i in range(len(unique_list)):\n",
    "        unique_dict[unique_list[i]] = i \n",
    "    return unique_list, unique_dict\n",
    "\n",
    "lst_users, dic_users = unique(ratings['user'])\n",
    "lst_items, dic_items = unique(ratings['item'])\n",
    "\n",
    "M = len(lst_users)\n",
    "N = len(lst_items)\n",
    "matrixSparsity = len(ratings) / (M*N)\n",
    "print(\"We have %d users, %d movies and %d ratings matrix has %f percent of non-zero value.\\n\" % (M, N,ratings.shape[0], 100*matrixSparsity))"
   ]
  },
  {
   "cell_type": "code",
   "execution_count": 31,
   "metadata": {},
   "outputs": [
    {
     "name": "stdout",
     "output_type": "stream",
     "text": [
      "fold 0\n",
      "We have 610 users, 7535 movies and 50418 rating \n",
      "\n",
      "We have 610 users, 7508 movies and 50418 rating \n",
      "\n",
      "fold 1\n",
      "We have 610 users, 7508 movies and 50418 rating \n",
      "\n",
      "We have 610 users, 7535 movies and 50418 rating \n",
      "\n"
     ]
    }
   ],
   "source": [
    "import lenskit.crossfold as xf\n",
    "\n",
    "df = ratings\n",
    "\n",
    "# Create 2 folds using partition_rows\n",
    "folds = xf.partition_rows(df, 2)\n",
    "\n",
    "# Iterate over the folds and write each partition to a separate CSV file\n",
    "for i, (train, test) in enumerate(folds):\n",
    "    \n",
    "    train = train.rename(columns={'userId': 'user', 'movieId': 'item'})\n",
    "    test = test.rename(columns={'userId': 'user', 'movieId': 'item'})\n",
    "\n",
    "    train.to_csv(f'train_{i}.csv', index=False)\n",
    "    test.to_csv(f'test_{i}.csv', index=False)\n",
    "    \n",
    "\n",
    "    # Print the number of (user, item, rating) items in each partition\n",
    "    print(f'fold {i}')\n",
    "\n",
    "\n",
    "    lst_users, dic_users = unique(train['user'])\n",
    "    lst_items, dic_items = unique(train['item'])\n",
    "    M = len(lst_users)\n",
    "    N = len(lst_items)\n",
    "    matrixSparsity = len(ratings) / (M*N)\n",
    "    print(\"We have %d users, %d movies and %d rating \\n\" % (M, N,train.shape[0]))\n",
    "\n",
    "\n",
    "    lst_users, dic_users = unique(test['user'])\n",
    "    lst_items, dic_items = unique(test['item'])\n",
    "    M = len(lst_users)\n",
    "    N = len(lst_items)\n",
    "\n",
    "    print(\"We have %d users, %d movies and %d rating \\n\" % (M, N,test.shape[0]))\n",
    "    \n"
   ]
  }
 ],
 "metadata": {
  "kernelspec": {
   "display_name": "Python 3.9.5 64-bit",
   "language": "python",
   "name": "python3"
  },
  "language_info": {
   "codemirror_mode": {
    "name": "ipython",
    "version": 3
   },
   "file_extension": ".py",
   "mimetype": "text/x-python",
   "name": "python",
   "nbconvert_exporter": "python",
   "pygments_lexer": "ipython3",
   "version": "3.9.5"
  },
  "orig_nbformat": 4,
  "vscode": {
   "interpreter": {
    "hash": "f9f85f796d01129d0dd105a088854619f454435301f6ffec2fea96ecbd9be4ac"
   }
  }
 },
 "nbformat": 4,
 "nbformat_minor": 2
}
